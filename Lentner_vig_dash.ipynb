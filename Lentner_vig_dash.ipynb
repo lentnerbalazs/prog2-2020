{
 "cells": [
  {
   "cell_type": "code",
   "execution_count": 1,
   "metadata": {},
   "outputs": [],
   "source": [
    "import json\n",
    "import sys\n",
    "import dropbox\n",
    "import requests\n",
    "import pandas as pd\n",
    "\n",
    "import networkx as nx\n",
    "import matplotlib\n",
    "import pyvis\n",
    "\n",
    "from pyvis.network import Network"
   ]
  },
  {
   "cell_type": "code",
   "execution_count": 2,
   "metadata": {},
   "outputs": [],
   "source": [
    "ws_pathlist = json.loads(\n",
    "    requests.get(\n",
    "        \"https://borza-hotelcom-data.s3.eu-central-1.amazonaws.com/whoscored-matchlist.json\"\n",
    "    ).content\n",
    ")"
   ]
  },
  {
   "cell_type": "code",
   "execution_count": 3,
   "metadata": {},
   "outputs": [],
   "source": [
    "dics = [\n",
    "    json.loads(requests.get(ws_pathlist[i]).content) for i in range(len(ws_pathlist))\n",
    "]"
   ]
  },
  {
   "cell_type": "code",
   "execution_count": 4,
   "metadata": {},
   "outputs": [],
   "source": [
    "passes = []\n",
    "for i in range(len(dics[2][\"events\"])):\n",
    "    if (\n",
    "        dics[2][\"events\"][i][\"type\"][\"displayName\"] == \"Pass\"\n",
    "        and dics[2][\"events\"][i][\"outcomeType\"][\"displayName\"] == \"Successful\"\n",
    "        and dics[2][\"events\"][i][\"teamId\"] == dics[2][\"events\"][i + 1][\"teamId\"]\n",
    "    ):\n",
    "        dics[2][\"events\"][i][\"recieverId\"] = dics[2][\"events\"][i + 1][\"playerId\"]\n",
    "        passes.append(dics[2][\"events\"][i])\n",
    "\n",
    "passes_df = pd.DataFrame(passes)\n",
    "\n",
    "passes_df = passes_df[[\"playerId\", \"recieverId\", \"teamId\"]]\n",
    "\n",
    "passes_df[\"passes\"] = \"faszom\"\n",
    "\n",
    "test_df = passes_df.groupby([\"playerId\", \"recieverId\", \"teamId\"]).count().reset_index()\n",
    "\n",
    "test_df = test_df[test_df[\"playerId\"] != test_df[\"recieverId\"]].reset_index(drop=True)\n",
    "\n",
    "test_df[\"color\"] = test_df.apply(\n",
    "    lambda x: \"red\" if x[\"teamId\"] == 67 else \"blue\", axis=1\n",
    ")"
   ]
  },
  {
   "cell_type": "code",
   "execution_count": 5,
   "metadata": {},
   "outputs": [],
   "source": [
    "players = []\n",
    "for i in dics[2][\"home\"][\"players\"]:\n",
    "    players.append([i[\"playerId\"], i[\"name\"]])\n",
    "players = pd.DataFrame.from_records(players).rename(columns={0: \"playerId\", 1: \"name\"})\n",
    "home_players = players.copy()\n",
    "\n",
    "players = []\n",
    "for i in dics[2][\"away\"][\"players\"]:\n",
    "    players.append([i[\"playerId\"], i[\"name\"]])\n",
    "players = pd.DataFrame.from_records(players).rename(columns={0: \"playerId\", 1: \"name\"})\n",
    "away_players = players\n",
    "\n",
    "players = pd.concat([home_players, away_players]).reset_index().drop(\"index\", axis=1)"
   ]
  },
  {
   "cell_type": "code",
   "execution_count": 6,
   "metadata": {},
   "outputs": [
    {
     "name": "stderr",
     "output_type": "stream",
     "text": [
      "C:\\ProgramData\\Anaconda3\\lib\\site-packages\\ipykernel_launcher.py:5: SettingWithCopyWarning: \n",
      "A value is trying to be set on a copy of a slice from a DataFrame\n",
      "\n",
      "See the caveats in the documentation: http://pandas.pydata.org/pandas-docs/stable/user_guide/indexing.html#returning-a-view-versus-a-copy\n",
      "  \"\"\"\n",
      "C:\\ProgramData\\Anaconda3\\lib\\site-packages\\pandas\\core\\indexing.py:205: SettingWithCopyWarning: \n",
      "A value is trying to be set on a copy of a slice from a DataFrame\n",
      "\n",
      "See the caveats in the documentation: http://pandas.pydata.org/pandas-docs/stable/user_guide/indexing.html#returning-a-view-versus-a-copy\n",
      "  self._setitem_with_indexer(indexer, value)\n",
      "C:\\ProgramData\\Anaconda3\\lib\\site-packages\\ipykernel_launcher.py:10: SettingWithCopyWarning: \n",
      "A value is trying to be set on a copy of a slice from a DataFrame\n",
      "\n",
      "See the caveats in the documentation: http://pandas.pydata.org/pandas-docs/stable/user_guide/indexing.html#returning-a-view-versus-a-copy\n",
      "  # Remove the CWD from sys.path while we load stuff.\n"
     ]
    }
   ],
   "source": [
    "for i in range(len(test_df[\"playerId\"])):\n",
    "    test_df[\"playerId\"][i] = (\n",
    "        players[\"name\"]\n",
    "        .loc[players[\"playerId\"] == test_df[\"playerId\"][i]]\n",
    "        .reset_index(drop=True)[0]\n",
    "    )\n",
    "    test_df[\"recieverId\"][i] = (\n",
    "        players[\"name\"]\n",
    "        .loc[players[\"playerId\"] == test_df[\"recieverId\"][i]]\n",
    "        .reset_index(drop=True)[0]\n",
    "    )"
   ]
  },
  {
   "cell_type": "code",
   "execution_count": 7,
   "metadata": {},
   "outputs": [],
   "source": [
    "G=nx.DiGraph()\n",
    "for i in range(1,(len(test_df))):\n",
    "    G.add_edge(test_df.loc[i,'playerId'], test_df.loc[i,'recieverId'], weight=test_df.loc[i,'passes'])\n",
    "\n",
    "cc=nx.closeness_centrality(G, u=None, distance=None, wf_improved=False)\n",
    "\n",
    "CC_df=pd.DataFrame.from_dict(cc,orient='index', columns=['CC'])\n",
    "\n",
    "test_df=test_df.merge(CC_df, how='left', left_on='playerId', right_index=True)"
   ]
  },
  {
   "cell_type": "code",
   "execution_count": 9,
   "metadata": {
    "scrolled": true
   },
   "outputs": [],
   "source": [
    "pass_net = Network(\n",
    "    height=\"700\",\n",
    "    width=\"700\",\n",
    "    bgcolor=\"FFFFFF\",\n",
    "    font_color=\"black\",\n",
    "    directed=True,\n",
    "    notebook=False,\n",
    ")\n",
    "pass_net.barnes_hut()\n",
    "sources = test_df[\"playerId\"]\n",
    "targets = test_df[\"recieverId\"]\n",
    "weights = test_df[\"passes\"]\n",
    "size = test_df[\"CC\"]\n",
    "color = test_df[\"color\"]\n",
    "\n",
    "edge_data = zip(sources, targets, weights, size, color)\n",
    "for e in edge_data:\n",
    "    src = str(e[0])\n",
    "    dst = str(e[1])\n",
    "    w = e[2]\n",
    "    s = e[3]\n",
    "    c = e[4]\n",
    "    pass_net.add_node(src, src, title=src, size=s, color=c)\n",
    "    pass_net.add_node(dst, dst, title=dst, size=s, color=c)\n",
    "    pass_net.add_edge(src, dst, value=w)\n",
    "    neighbor_map = pass_net.get_adj_list()\n",
    "\n",
    "for node in pass_net.nodes:\n",
    "    node[\"title\"] += \" Neighbors:<br>\" + \"<br>\".join(neighbor_map[node[\"id\"]])\n",
    "    node[\"value\"] = len(neighbor_map[node[\"id\"]])\n",
    "\n",
    "pass_net.set_options(\n",
    "    \"\"\"\n",
    "var options = {\n",
    "  \"nodes\": {\n",
    "    \"borderWidth\": 2,\n",
    "    \"color\": {\n",
    "      \"highlight\": {\n",
    "        \"background\": \"rgba(217,255,50,1)\"\n",
    "      }\n",
    "    },\n",
    "    \"font\": {\n",
    "      \"size\": 50,\n",
    "      \"face\": \"tahoma\"\n",
    "    }\n",
    "  },\n",
    "  \"edges\": {\n",
    "    \"color\": {\n",
    "      \"inherit\": true\n",
    "    },\n",
    "    \"smooth\": false\n",
    "  },\n",
    "  \"physics\": {\n",
    "    \"barnesHut\": {\n",
    "      \"gravitationalConstant\": -80000,\n",
    "      \"springLength\": 250,\n",
    "      \"springConstant\": 0.001\n",
    "    },\n",
    "    \"minVelocity\": 0.75\n",
    "  }\n",
    "}\n",
    "\"\"\"\n",
    ")\n",
    "\n",
    "pass_net.show(\"pass_network.html\")"
   ]
  },
  {
   "cell_type": "code",
   "execution_count": 10,
   "metadata": {},
   "outputs": [
    {
     "data": {
      "text/html": [
       "<div>\n",
       "<style scoped>\n",
       "    .dataframe tbody tr th:only-of-type {\n",
       "        vertical-align: middle;\n",
       "    }\n",
       "\n",
       "    .dataframe tbody tr th {\n",
       "        vertical-align: top;\n",
       "    }\n",
       "\n",
       "    .dataframe thead th {\n",
       "        text-align: right;\n",
       "    }\n",
       "</style>\n",
       "<table border=\"1\" class=\"dataframe\">\n",
       "  <thead>\n",
       "    <tr style=\"text-align: right;\">\n",
       "      <th></th>\n",
       "      <th>playerId</th>\n",
       "      <th>recieverId</th>\n",
       "      <th>teamId</th>\n",
       "      <th>passes</th>\n",
       "      <th>color</th>\n",
       "      <th>CC</th>\n",
       "    </tr>\n",
       "  </thead>\n",
       "  <tbody>\n",
       "    <tr>\n",
       "      <td>0</td>\n",
       "      <td>Jesús Navas</td>\n",
       "      <td>Fernando</td>\n",
       "      <td>67</td>\n",
       "      <td>4</td>\n",
       "      <td>red</td>\n",
       "      <td>0.764706</td>\n",
       "    </tr>\n",
       "    <tr>\n",
       "      <td>1</td>\n",
       "      <td>Jesús Navas</td>\n",
       "      <td>Éver Banega</td>\n",
       "      <td>67</td>\n",
       "      <td>7</td>\n",
       "      <td>red</td>\n",
       "      <td>0.764706</td>\n",
       "    </tr>\n",
       "    <tr>\n",
       "      <td>2</td>\n",
       "      <td>Jesús Navas</td>\n",
       "      <td>Luuk de Jong</td>\n",
       "      <td>67</td>\n",
       "      <td>2</td>\n",
       "      <td>red</td>\n",
       "      <td>0.764706</td>\n",
       "    </tr>\n",
       "    <tr>\n",
       "      <td>3</td>\n",
       "      <td>Jesús Navas</td>\n",
       "      <td>Tomás Vaclik</td>\n",
       "      <td>67</td>\n",
       "      <td>1</td>\n",
       "      <td>red</td>\n",
       "      <td>0.764706</td>\n",
       "    </tr>\n",
       "    <tr>\n",
       "      <td>4</td>\n",
       "      <td>Jesús Navas</td>\n",
       "      <td>Nemanja Gudelj</td>\n",
       "      <td>67</td>\n",
       "      <td>1</td>\n",
       "      <td>red</td>\n",
       "      <td>0.764706</td>\n",
       "    </tr>\n",
       "    <tr>\n",
       "      <td>...</td>\n",
       "      <td>...</td>\n",
       "      <td>...</td>\n",
       "      <td>...</td>\n",
       "      <td>...</td>\n",
       "      <td>...</td>\n",
       "      <td>...</td>\n",
       "    </tr>\n",
       "    <tr>\n",
       "      <td>186</td>\n",
       "      <td>Adrià Pedrosa</td>\n",
       "      <td>Jonathan Calleri</td>\n",
       "      <td>70</td>\n",
       "      <td>4</td>\n",
       "      <td>blue</td>\n",
       "      <td>0.666667</td>\n",
       "    </tr>\n",
       "    <tr>\n",
       "      <td>187</td>\n",
       "      <td>Adrià Pedrosa</td>\n",
       "      <td>Adrián Embarba</td>\n",
       "      <td>70</td>\n",
       "      <td>4</td>\n",
       "      <td>blue</td>\n",
       "      <td>0.666667</td>\n",
       "    </tr>\n",
       "    <tr>\n",
       "      <td>188</td>\n",
       "      <td>Adrià Pedrosa</td>\n",
       "      <td>Marc Roca</td>\n",
       "      <td>70</td>\n",
       "      <td>4</td>\n",
       "      <td>blue</td>\n",
       "      <td>0.666667</td>\n",
       "    </tr>\n",
       "    <tr>\n",
       "      <td>189</td>\n",
       "      <td>Víctor Gómez</td>\n",
       "      <td>Sergi Darder</td>\n",
       "      <td>70</td>\n",
       "      <td>1</td>\n",
       "      <td>blue</td>\n",
       "      <td>0.631579</td>\n",
       "    </tr>\n",
       "    <tr>\n",
       "      <td>190</td>\n",
       "      <td>Víctor Gómez</td>\n",
       "      <td>Marc Roca</td>\n",
       "      <td>70</td>\n",
       "      <td>2</td>\n",
       "      <td>blue</td>\n",
       "      <td>0.631579</td>\n",
       "    </tr>\n",
       "  </tbody>\n",
       "</table>\n",
       "<p>191 rows × 6 columns</p>\n",
       "</div>"
      ],
      "text/plain": [
       "          playerId        recieverId  teamId  passes color        CC\n",
       "0      Jesús Navas          Fernando      67       4   red  0.764706\n",
       "1      Jesús Navas       Éver Banega      67       7   red  0.764706\n",
       "2      Jesús Navas      Luuk de Jong      67       2   red  0.764706\n",
       "3      Jesús Navas      Tomás Vaclik      67       1   red  0.764706\n",
       "4      Jesús Navas    Nemanja Gudelj      67       1   red  0.764706\n",
       "..             ...               ...     ...     ...   ...       ...\n",
       "186  Adrià Pedrosa  Jonathan Calleri      70       4  blue  0.666667\n",
       "187  Adrià Pedrosa    Adrián Embarba      70       4  blue  0.666667\n",
       "188  Adrià Pedrosa         Marc Roca      70       4  blue  0.666667\n",
       "189   Víctor Gómez      Sergi Darder      70       1  blue  0.631579\n",
       "190   Víctor Gómez         Marc Roca      70       2  blue  0.631579\n",
       "\n",
       "[191 rows x 6 columns]"
      ]
     },
     "execution_count": 10,
     "metadata": {},
     "output_type": "execute_result"
    }
   ],
   "source": [
    "test_df"
   ]
  },
  {
   "cell_type": "code",
   "execution_count": 11,
   "metadata": {},
   "outputs": [],
   "source": [
    "players = []\n",
    "for i in dics[2][\"home\"][\"players\"]:\n",
    "    players.append([i[\"playerId\"],i[\"name\"]])\n",
    "players = pd.DataFrame.from_records(players).rename(columns = {0:\"playerId\",1:\"name\"})\n",
    "players[\"teamId\"] = 67\n",
    "home_players = players"
   ]
  },
  {
   "cell_type": "code",
   "execution_count": 12,
   "metadata": {},
   "outputs": [],
   "source": [
    "players = []\n",
    "for i in dics[2][\"away\"][\"players\"]:\n",
    "    players.append([i[\"playerId\"],i[\"name\"]])\n",
    "players = pd.DataFrame.from_records(players).rename(columns = {0:\"playerId\",1:\"name\"})\n",
    "players[\"teamId\"] = 70\n",
    "away_players = players"
   ]
  },
  {
   "cell_type": "code",
   "execution_count": 13,
   "metadata": {},
   "outputs": [
    {
     "data": {
      "text/html": [
       "<div>\n",
       "<style scoped>\n",
       "    .dataframe tbody tr th:only-of-type {\n",
       "        vertical-align: middle;\n",
       "    }\n",
       "\n",
       "    .dataframe tbody tr th {\n",
       "        vertical-align: top;\n",
       "    }\n",
       "\n",
       "    .dataframe thead th {\n",
       "        text-align: right;\n",
       "    }\n",
       "</style>\n",
       "<table border=\"1\" class=\"dataframe\">\n",
       "  <thead>\n",
       "    <tr style=\"text-align: right;\">\n",
       "      <th></th>\n",
       "      <th>playerId</th>\n",
       "      <th>name</th>\n",
       "      <th>teamId</th>\n",
       "    </tr>\n",
       "  </thead>\n",
       "  <tbody>\n",
       "    <tr>\n",
       "      <td>0</td>\n",
       "      <td>68732</td>\n",
       "      <td>Tomás Vaclik</td>\n",
       "      <td>67</td>\n",
       "    </tr>\n",
       "    <tr>\n",
       "      <td>1</td>\n",
       "      <td>9446</td>\n",
       "      <td>Jesús Navas</td>\n",
       "      <td>67</td>\n",
       "    </tr>\n",
       "    <tr>\n",
       "      <td>2</td>\n",
       "      <td>134984</td>\n",
       "      <td>Diego Carlos</td>\n",
       "      <td>67</td>\n",
       "    </tr>\n",
       "    <tr>\n",
       "      <td>3</td>\n",
       "      <td>90778</td>\n",
       "      <td>Sergi Gómez</td>\n",
       "      <td>67</td>\n",
       "    </tr>\n",
       "    <tr>\n",
       "      <td>4</td>\n",
       "      <td>362275</td>\n",
       "      <td>Sergio Reguilón</td>\n",
       "      <td>67</td>\n",
       "    </tr>\n",
       "  </tbody>\n",
       "</table>\n",
       "</div>"
      ],
      "text/plain": [
       "   playerId             name  teamId\n",
       "0     68732     Tomás Vaclik      67\n",
       "1      9446      Jesús Navas      67\n",
       "2    134984     Diego Carlos      67\n",
       "3     90778      Sergi Gómez      67\n",
       "4    362275  Sergio Reguilón      67"
      ]
     },
     "execution_count": 13,
     "metadata": {},
     "output_type": "execute_result"
    }
   ],
   "source": [
    "home_players.head()"
   ]
  },
  {
   "cell_type": "code",
   "execution_count": 14,
   "metadata": {},
   "outputs": [
    {
     "data": {
      "text/html": [
       "<div>\n",
       "<style scoped>\n",
       "    .dataframe tbody tr th:only-of-type {\n",
       "        vertical-align: middle;\n",
       "    }\n",
       "\n",
       "    .dataframe tbody tr th {\n",
       "        vertical-align: top;\n",
       "    }\n",
       "\n",
       "    .dataframe thead th {\n",
       "        text-align: right;\n",
       "    }\n",
       "</style>\n",
       "<table border=\"1\" class=\"dataframe\">\n",
       "  <thead>\n",
       "    <tr style=\"text-align: right;\">\n",
       "      <th></th>\n",
       "      <th>playerId</th>\n",
       "      <th>name</th>\n",
       "      <th>teamId</th>\n",
       "    </tr>\n",
       "  </thead>\n",
       "  <tbody>\n",
       "    <tr>\n",
       "      <td>0</td>\n",
       "      <td>10445</td>\n",
       "      <td>Diego López</td>\n",
       "      <td>70</td>\n",
       "    </tr>\n",
       "    <tr>\n",
       "      <td>1</td>\n",
       "      <td>80957</td>\n",
       "      <td>Javi López</td>\n",
       "      <td>70</td>\n",
       "    </tr>\n",
       "    <tr>\n",
       "      <td>2</td>\n",
       "      <td>67327</td>\n",
       "      <td>Bernardo Espinosa</td>\n",
       "      <td>70</td>\n",
       "    </tr>\n",
       "    <tr>\n",
       "      <td>3</td>\n",
       "      <td>73265</td>\n",
       "      <td>Leandro Cabrera</td>\n",
       "      <td>70</td>\n",
       "    </tr>\n",
       "    <tr>\n",
       "      <td>4</td>\n",
       "      <td>363966</td>\n",
       "      <td>Adrià Pedrosa</td>\n",
       "      <td>70</td>\n",
       "    </tr>\n",
       "  </tbody>\n",
       "</table>\n",
       "</div>"
      ],
      "text/plain": [
       "   playerId               name  teamId\n",
       "0     10445        Diego López      70\n",
       "1     80957         Javi López      70\n",
       "2     67327  Bernardo Espinosa      70\n",
       "3     73265    Leandro Cabrera      70\n",
       "4    363966      Adrià Pedrosa      70"
      ]
     },
     "execution_count": 14,
     "metadata": {},
     "output_type": "execute_result"
    }
   ],
   "source": [
    "away_players.head()"
   ]
  },
  {
   "cell_type": "code",
   "execution_count": 15,
   "metadata": {},
   "outputs": [],
   "source": [
    "players = pd.concat([home_players,away_players])"
   ]
  },
  {
   "cell_type": "code",
   "execution_count": 16,
   "metadata": {},
   "outputs": [],
   "source": [
    "draft = pd.merge(passes_df,players,how=\"left\").rename(columns = {\"name\":\"playerName\"})"
   ]
  },
  {
   "cell_type": "code",
   "execution_count": null,
   "metadata": {},
   "outputs": [],
   "source": []
  },
  {
   "cell_type": "code",
   "execution_count": 17,
   "metadata": {},
   "outputs": [],
   "source": [
    "team_id_dic = {\n",
    "   dics[2][v][\"teamId\"]: f\"{v} - {dics[2][v]['name']}\" for v in [\"home\", \"away\"]\n",
    "}"
   ]
  },
  {
   "cell_type": "code",
   "execution_count": 18,
   "metadata": {},
   "outputs": [
    {
     "data": {
      "text/plain": [
       "{67: 'home - Sevilla', 70: 'away - Espanyol'}"
      ]
     },
     "execution_count": 18,
     "metadata": {},
     "output_type": "execute_result"
    }
   ],
   "source": [
    "team_id_dic"
   ]
  },
  {
   "cell_type": "code",
   "execution_count": null,
   "metadata": {},
   "outputs": [],
   "source": []
  },
  {
   "cell_type": "code",
   "execution_count": 19,
   "metadata": {},
   "outputs": [],
   "source": [
    "import dash_html_components as html"
   ]
  },
  {
   "cell_type": "code",
   "execution_count": 20,
   "metadata": {},
   "outputs": [
    {
     "data": {
      "text/plain": [
       "dash_html_components.Img.Img"
      ]
     },
     "execution_count": 20,
     "metadata": {},
     "output_type": "execute_result"
    }
   ],
   "source": [
    "type(html.Img(src='pass_network.html'))"
   ]
  },
  {
   "cell_type": "code",
   "execution_count": 21,
   "metadata": {},
   "outputs": [
    {
     "ename": "FileNotFoundError",
     "evalue": "[Errno 2] No such file or directory: '/home/borza/Downloads/pass_network.html'",
     "output_type": "error",
     "traceback": [
      "\u001b[1;31m---------------------------------------------------------------------------\u001b[0m",
      "\u001b[1;31mFileNotFoundError\u001b[0m                         Traceback (most recent call last)",
      "\u001b[1;32m<ipython-input-21-c6f83f981022>\u001b[0m in \u001b[0;36m<module>\u001b[1;34m\u001b[0m\n\u001b[1;32m----> 1\u001b[1;33m \u001b[0mhtml\u001b[0m\u001b[1;33m.\u001b[0m\u001b[0mDiv\u001b[0m\u001b[1;33m(\u001b[0m\u001b[1;33m[\u001b[0m\u001b[0mhtml\u001b[0m\u001b[1;33m.\u001b[0m\u001b[0mIframe\u001b[0m\u001b[1;33m(\u001b[0m\u001b[0msrcDoc\u001b[0m\u001b[1;33m=\u001b[0m\u001b[0mopen\u001b[0m\u001b[1;33m(\u001b[0m\u001b[1;34m\"/home/borza/Downloads/pass_network.html\"\u001b[0m\u001b[1;33m)\u001b[0m\u001b[1;33m.\u001b[0m\u001b[0mread\u001b[0m\u001b[1;33m(\u001b[0m\u001b[1;33m)\u001b[0m\u001b[1;33m)\u001b[0m\u001b[1;33m]\u001b[0m\u001b[1;33m)\u001b[0m\u001b[1;33m\u001b[0m\u001b[1;33m\u001b[0m\u001b[0m\n\u001b[0m",
      "\u001b[1;31mFileNotFoundError\u001b[0m: [Errno 2] No such file or directory: '/home/borza/Downloads/pass_network.html'"
     ]
    }
   ],
   "source": [
    "html.Div([html.Iframe(srcDoc=open(\"/home/borza/Downloads/pass_network.html\").read())])"
   ]
  },
  {
   "cell_type": "code",
   "execution_count": null,
   "metadata": {
    "scrolled": true
   },
   "outputs": [
    {
     "name": "stdout",
     "output_type": "stream",
     "text": [
      "Running on http://127.0.0.1:8054/\n",
      "Running on http://127.0.0.1:8054/\n",
      "Running on http://127.0.0.1:8054/\n",
      "Running on http://127.0.0.1:8054/\n",
      "Running on http://127.0.0.1:8054/\n",
      "Running on http://127.0.0.1:8054/\n",
      "Running on http://127.0.0.1:8054/\n",
      "Running on http://127.0.0.1:8054/\n",
      "Debugger PIN: 310-518-966\n",
      "Debugger PIN: 310-518-966\n",
      "Debugger PIN: 310-518-966\n",
      "Debugger PIN: 310-518-966\n",
      "Debugger PIN: 310-518-966\n",
      "Debugger PIN: 310-518-966\n",
      "Debugger PIN: 310-518-966\n",
      "Debugger PIN: 310-518-966\n",
      " * Serving Flask app \"Hello\" (lazy loading)\n",
      " * Environment: production\n",
      "   WARNING: This is a development server. Do not use it in a production deployment.\n",
      "   Use a production WSGI server instead.\n",
      " * Debug mode: on\n"
     ]
    }
   ],
   "source": [
    "import dash_dangerously_set_inner_html\n",
    "import dash\n",
    "import dash_html_components as html\n",
    "\n",
    "app = dash.Dash(\"Hello\")\n",
    "\n",
    "\n",
    "app.scripts.config.serve_locally = True\n",
    "# plot = open(\"pass_network.html\").read()\n",
    "\n",
    "app.layout = html.Div(\n",
    "    [html.Iframe(srcDoc=open(\"pass_network.html\").read())], title=\"Pass Dash Graph\")\n",
    "\n",
    "\n",
    "if __name__ == \"__main__\":\n",
    "    app.run_server(debug=True, use_reloader=False, port=8054)"
   ]
  },
  {
   "cell_type": "code",
   "execution_count": null,
   "metadata": {},
   "outputs": [],
   "source": []
  },
  {
   "cell_type": "code",
   "execution_count": null,
   "metadata": {},
   "outputs": [],
   "source": []
  },
  {
   "cell_type": "code",
   "execution_count": null,
   "metadata": {},
   "outputs": [],
   "source": []
  },
  {
   "cell_type": "code",
   "execution_count": null,
   "metadata": {},
   "outputs": [],
   "source": []
  },
  {
   "cell_type": "code",
   "execution_count": null,
   "metadata": {},
   "outputs": [],
   "source": []
  }
 ],
 "metadata": {
  "kernelspec": {
   "display_name": "Python 3",
   "language": "python",
   "name": "python3"
  }
 },
 "nbformat": 4,
 "nbformat_minor": 4
}
